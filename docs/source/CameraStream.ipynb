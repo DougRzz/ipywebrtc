{
 "cells": [
  {
   "cell_type": "markdown",
   "metadata": {},
   "source": [
    "# CameraStream\n",
    "A [CameraStream](api.rst#ipywebrtc.webrtc.CameraStream) is a [MediaStream](api.rst#ipywebrtc.webrtc.MediaStream) from an attached camera device or webcam."
   ]
  },
  {
   "cell_type": "code",
   "execution_count": null,
   "metadata": {},
   "outputs": [],
   "source": [
    "from ipywebrtc import CameraStream, ImageRecorder"
   ]
  },
  {
   "cell_type": "markdown",
   "metadata": {},
   "source": [
    "## With constraints"
   ]
  },
  {
   "cell_type": "markdown",
   "metadata": {},
   "source": [
    "You can pass [constraints](api.rst#ipywebrtc.webrtc.CameraStream.constraints) to the camera:"
   ]
  },
  {
   "cell_type": "code",
   "execution_count": null,
   "metadata": {},
   "outputs": [],
   "source": [
    "camera = CameraStream(constraints=\n",
    "                      {'facing_mode': 'user',\n",
    "                       'audio': False,\n",
    "                       'video': { 'width': 640, 'height': 480 }\n",
    "                       })\n",
    "camera"
   ]
  },
  {
   "cell_type": "markdown",
   "metadata": {},
   "source": [
    "## Front and back camera"
   ]
  },
  {
   "cell_type": "markdown",
   "metadata": {},
   "source": [
    "Or use the two convenience methods:\n",
    "\n",
    "* [CameraStream.facing_user](http://localhost:8000/api.rst#ipywebrtc.webrtc.CameraStream.facing_user)\n",
    "* [CameraStream.facing_environment](http://localhost:8000/api.rst#ipywebrtc.webrtc.CameraStream.facing_environment)"
   ]
  },
  {
   "cell_type": "code",
   "execution_count": null,
   "metadata": {},
   "outputs": [],
   "source": [
    "# this is a shorter way to get the user facing camera\n",
    "front_camera = CameraStream.facing_user(audio=False)\n",
    "# or the back facing camera\n",
    "back_camera = CameraStream.facing_environment(audio=False)"
   ]
  },
  {
   "cell_type": "code",
   "execution_count": null,
   "metadata": {},
   "outputs": [],
   "source": [
    "back_camera"
   ]
  },
  {
   "cell_type": "markdown",
   "metadata": {},
   "source": [
    "## Record images from the camera"
   ]
  },
  {
   "cell_type": "code",
   "execution_count": null,
   "metadata": {},
   "outputs": [],
   "source": [
    "image_recorder = ImageRecorder(stream=camera)\n",
    "image_recorder"
   ]
  },
  {
   "cell_type": "code",
   "execution_count": null,
   "metadata": {},
   "outputs": [],
   "source": [
    "import PIL.Image\n",
    "import PIL.ImageFilter\n",
    "import io\n",
    "im = PIL.Image.open(io.BytesIO(image_recorder.get_record().value))"
   ]
  },
  {
   "cell_type": "code",
   "execution_count": null,
   "metadata": {},
   "outputs": [],
   "source": [
    "im.filter(PIL.ImageFilter.BLUR)"
   ]
  },
  {
   "cell_type": "code",
   "execution_count": null,
   "metadata": {
    "scrolled": true
   },
   "outputs": [],
   "source": [
    "import numpy as np\n",
    "im_array = np.array(im)\n",
    "im_array"
   ]
  }
 ],
 "metadata": {
  "kernelspec": {
   "display_name": "Python 3",
   "language": "python",
   "name": "python3"
  },
  "language_info": {
   "codemirror_mode": {
    "name": "ipython",
    "version": 3
   },
   "file_extension": ".py",
   "mimetype": "text/x-python",
   "name": "python",
   "nbconvert_exporter": "python",
   "pygments_lexer": "ipython3",
   "version": "3.6.4"
  },
  "widgets": {
   "application/vnd.jupyter.widget-state+json": {
    "state": {
     "3b37da3b6fea4a7cb924dee8ca012c5e": {
      "model_module": "jupyter-webrtc",
      "model_module_version": "~0.3.0",
      "model_name": "CameraStreamModel",
      "state": {
       "constraints": {
        "audio": false,
        "video": {
         "facingMode": "user"
        }
       },
       "layout": "IPY_MODEL_6819b2d38fda4c58a391fcbf2f39c8c0"
      }
     },
     "4401217e9487495d9df9c4e3304cd1be": {
      "model_module": "@jupyter-widgets/base",
      "model_module_version": "1.1.0",
      "model_name": "LayoutModel",
      "state": {
       "_model_module_version": "1.1.0",
       "_view_module_version": "1.1.0",
       "grid_area": null,
       "grid_auto_columns": null,
       "grid_auto_flow": null,
       "grid_auto_rows": null,
       "grid_column": null,
       "grid_gap": null,
       "grid_row": null,
       "grid_template_areas": null,
       "grid_template_columns": null,
       "grid_template_rows": null
      }
     },
     "4d23a9f10e9c487fa9619c1fa4fb8b5f": {
      "model_module": "jupyter-webrtc",
      "model_module_version": "~0.3.0",
      "model_name": "CameraStreamModel",
      "state": {
       "constraints": {
        "audio": true,
        "video": {
         "facingMode": "environment"
        }
       },
       "layout": "IPY_MODEL_4401217e9487495d9df9c4e3304cd1be"
      }
     },
     "6819b2d38fda4c58a391fcbf2f39c8c0": {
      "model_module": "@jupyter-widgets/base",
      "model_module_version": "1.1.0",
      "model_name": "LayoutModel",
      "state": {
       "_model_module_version": "1.1.0",
       "_view_module_version": "1.1.0",
       "grid_area": null,
       "grid_auto_columns": null,
       "grid_auto_flow": null,
       "grid_auto_rows": null,
       "grid_column": null,
       "grid_gap": null,
       "grid_row": null,
       "grid_template_areas": null,
       "grid_template_columns": null,
       "grid_template_rows": null
      }
     },
     "6cf9c4a8b6b14e08956b83da08870dab": {
      "model_module": "@jupyter-widgets/base",
      "model_module_version": "1.1.0",
      "model_name": "LayoutModel",
      "state": {
       "_model_module_version": "1.1.0",
       "_view_module_version": "1.1.0",
       "grid_area": null,
       "grid_auto_columns": null,
       "grid_auto_flow": null,
       "grid_auto_rows": null,
       "grid_column": null,
       "grid_gap": null,
       "grid_row": null,
       "grid_template_areas": null,
       "grid_template_columns": null,
       "grid_template_rows": null
      }
     },
     "9bc4af36a82746cdbb6d76a02fe91ec5": {
      "model_module": "@jupyter-widgets/base",
      "model_module_version": "1.1.0",
      "model_name": "LayoutModel",
      "state": {
       "_model_module_version": "1.1.0",
       "_view_module_version": "1.1.0",
       "grid_area": null,
       "grid_auto_columns": null,
       "grid_auto_flow": null,
       "grid_auto_rows": null,
       "grid_column": null,
       "grid_gap": null,
       "grid_row": null,
       "grid_template_areas": null,
       "grid_template_columns": null,
       "grid_template_rows": null
      }
     },
     "aa05262c53aa4318b70f53854b443168": {
      "model_module": "jupyter-webrtc",
      "model_module_version": "~0.3.0",
      "model_name": "CameraStreamModel",
      "state": {
       "constraints": {
        "audio": false,
        "facing_mode": "user",
        "video": {
         "height": 480,
         "width": 640
        }
       },
       "layout": "IPY_MODEL_e8b4dc59d5b74592ac3071ec5a58e95b"
      }
     },
     "bcd49e2ae3164699ad95b1c398fa3281": {
      "model_module": "jupyter-webrtc",
      "model_module_version": "~0.3.0",
      "model_name": "CameraStreamModel",
      "state": {
       "constraints": {
        "audio": false,
        "facing_mode": "user",
        "video": {
         "height": 480,
         "width": 640
        }
       },
       "layout": "IPY_MODEL_9bc4af36a82746cdbb6d76a02fe91ec5"
      }
     },
     "d9761e1d3a8f42ffbe736c56478c2419": {
      "model_module": "jupyter-webrtc",
      "model_module_version": "~0.3.0",
      "model_name": "CameraStreamModel",
      "state": {
       "constraints": {
        "audio": false,
        "video": {
         "facingMode": "environment"
        }
       },
       "layout": "IPY_MODEL_f471a44b067e47e9bd6aecd3c90ac002"
      }
     },
     "e8b4dc59d5b74592ac3071ec5a58e95b": {
      "model_module": "@jupyter-widgets/base",
      "model_module_version": "1.1.0",
      "model_name": "LayoutModel",
      "state": {
       "_model_module_version": "1.1.0",
       "_view_module_version": "1.1.0",
       "grid_area": null,
       "grid_auto_columns": null,
       "grid_auto_flow": null,
       "grid_auto_rows": null,
       "grid_column": null,
       "grid_gap": null,
       "grid_row": null,
       "grid_template_areas": null,
       "grid_template_columns": null,
       "grid_template_rows": null
      }
     },
     "f471a44b067e47e9bd6aecd3c90ac002": {
      "model_module": "@jupyter-widgets/base",
      "model_module_version": "1.1.0",
      "model_name": "LayoutModel",
      "state": {
       "_model_module_version": "1.1.0",
       "_view_module_version": "1.1.0",
       "grid_area": null,
       "grid_auto_columns": null,
       "grid_auto_flow": null,
       "grid_auto_rows": null,
       "grid_column": null,
       "grid_gap": null,
       "grid_row": null,
       "grid_template_areas": null,
       "grid_template_columns": null,
       "grid_template_rows": null
      }
     },
     "f8083b04e67647fb8a7262476489a851": {
      "model_module": "jupyter-webrtc",
      "model_module_version": "~0.3.0",
      "model_name": "CameraStreamModel",
      "state": {
       "constraints": {
        "audio": false,
        "video": {
         "facingMode": "user"
        }
       },
       "layout": "IPY_MODEL_6cf9c4a8b6b14e08956b83da08870dab"
      }
     }
    },
    "version_major": 2,
    "version_minor": 0
   }
  }
 },
 "nbformat": 4,
 "nbformat_minor": 2
}
