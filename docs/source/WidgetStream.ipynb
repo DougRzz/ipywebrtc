{
 "cells": [
  {
   "cell_type": "markdown",
   "metadata": {},
   "source": [
    "# WidgetStream\n",
    "A [WidgetStream]((api.rst#ipywebrtc.webrtc.WidgetStream) allows you to turn most `ipywidgets.DOMWidget` objects into a MediaStream. It does this by finding a canvas or video element in the first view of the widget, and when fails will use [html2canvas](https://html2canvas.hertzen.com/) to render the widget onto a canvas.\n",
    "\n",
    "This make is possible to capture a video, create a screenshot or send over webrtc any widget from the ipywidget family, such as ipyleaflet, ipyvolume, k3d-jupyter and complete ipywidget GUI's."
   ]
  },
  {
   "cell_type": "code",
   "execution_count": 1,
   "metadata": {},
   "outputs": [],
   "source": [
    "from ipywebrtc import WidgetStream, VideoStream"
   ]
  },
  {
   "cell_type": "markdown",
   "metadata": {},
   "source": [
    "## pythreejs: Streaming of a webgl canvas"
   ]
  },
  {
   "cell_type": "code",
   "execution_count": 2,
   "metadata": {},
   "outputs": [
    {
     "data": {
      "application/vnd.jupyter.widget-view+json": {
       "model_id": "6f3fe7b98ca3493c9f407c53d582a215",
       "version_major": 2,
       "version_minor": 0
      },
      "text/plain": [
       "Renderer(camera=PerspectiveCamera(children=(DirectionalLight(color='white', intensity=0.5, position=(3.0, 5.0,…"
      ]
     },
     "metadata": {},
     "output_type": "display_data"
    }
   ],
   "source": [
    "from pythreejs import Mesh, SphereGeometry, MeshLambertMaterial, PerspectiveCamera, DirectionalLight, Scene, AmbientLight, Renderer, OrbitControls\n",
    "ball = Mesh(\n",
    "    geometry=SphereGeometry(radius=1), \n",
    "    material=MeshLambertMaterial(color='red'),\n",
    "    position=[2, 1, 0]\n",
    ")\n",
    "\n",
    "c = PerspectiveCamera(\n",
    "    position=[0, 5, 5], up=[0, 1, 0],\n",
    "    children=[DirectionalLight(color='white', position=[3, 5, 1], intensity=0.5)]\n",
    ")\n",
    "\n",
    "scene = Scene(children=[ball, c, AmbientLight(color='#777777')])\n",
    "\n",
    "renderer = Renderer(\n",
    "    camera=c, \n",
    "    scene=scene, \n",
    "    controls=[OrbitControls(controlling=c)]\n",
    ")\n",
    "\n",
    "renderer"
   ]
  },
  {
   "cell_type": "code",
   "execution_count": 3,
   "metadata": {},
   "outputs": [
    {
     "data": {
      "application/vnd.jupyter.widget-view+json": {
       "model_id": "d98869f223a747f9ada3cb8ff30e065c",
       "version_major": 2,
       "version_minor": 0
      },
      "text/plain": [
       "WidgetStream(widget=Renderer(camera=PerspectiveCamera(children=(DirectionalLight(color='white', intensity=0.5,…"
      ]
     },
     "metadata": {},
     "output_type": "display_data"
    }
   ],
   "source": [
    "# the webgl_stream will be updated after the scene has changed (so drag the above ball around if nothing happens)\n",
    "webgl_stream = WidgetStream(widget=renderer)\n",
    "webgl_stream"
   ]
  },
  {
   "cell_type": "code",
   "execution_count": 4,
   "metadata": {},
   "outputs": [
    {
     "data": {
      "application/vnd.jupyter.widget-view+json": {
       "model_id": "52c132ec0c564de182891126e62450df",
       "version_major": 2,
       "version_minor": 0
      },
      "text/plain": [
       "WidgetStream(max_fps=5, widget=Renderer(camera=PerspectiveCamera(children=(DirectionalLight(color='white', int…"
      ]
     },
     "metadata": {},
     "output_type": "display_data"
    }
   ],
   "source": [
    "# You can limit the fps\n",
    "webgl_stream2 = WidgetStream(widget=renderer, max_fps=5)\n",
    "webgl_stream2"
   ]
  },
  {
   "cell_type": "markdown",
   "metadata": {},
   "source": [
    "## ipywidgets: Streaming of a slider widget"
   ]
  },
  {
   "cell_type": "code",
   "execution_count": 5,
   "metadata": {},
   "outputs": [
    {
     "data": {
      "application/vnd.jupyter.widget-view+json": {
       "model_id": "a4f665c5a7004fdb8fdc9b1d3191b18d",
       "version_major": 2,
       "version_minor": 0
      },
      "text/plain": [
       "FloatSlider(value=7.5, continuous_update=False, description='Test:', readout_format='.1f')"
      ]
     },
     "metadata": {},
     "output_type": "display_data"
    }
   ],
   "source": [
    "from ipywidgets import FloatSlider\n",
    "slider = FloatSlider(\n",
    "    value=7.5,\n",
    "    step=0.1,\n",
    "    description='Test:',\n",
    "    disabled=False,\n",
    "    continuous_update=False,\n",
    "    orientation='horizontal',\n",
    "    readout=True,\n",
    "    readout_format='.1f',\n",
    ")\n",
    "\n",
    "slider"
   ]
  },
  {
   "cell_type": "code",
   "execution_count": 8,
   "metadata": {},
   "outputs": [
    {
     "data": {
      "application/vnd.jupyter.widget-view+json": {
       "model_id": "9076cf1b31dc4e03addbf9ecae6c4658",
       "version_major": 2,
       "version_minor": 0
      },
      "text/plain": [
       "WidgetStream(max_fps=1, widget=FloatSlider(value=7.5, continuous_update=False, description='Test:', readout_fo…"
      ]
     },
     "metadata": {},
     "output_type": "display_data"
    }
   ],
   "source": [
    "widget_stream = WidgetStream(widget=slider, max_fps=1)\n",
    "widget_stream"
   ]
  },
  {
   "cell_type": "code",
   "execution_count": 7,
   "metadata": {},
   "outputs": [],
   "source": [
    "# Close the stream\n",
    "widget_stream.close()"
   ]
  },
  {
   "cell_type": "markdown",
   "metadata": {},
   "source": [
    "## ipyleaflet: Streaming of a map widget"
   ]
  },
  {
   "cell_type": "code",
   "execution_count": 9,
   "metadata": {},
   "outputs": [
    {
     "data": {
      "application/vnd.jupyter.widget-view+json": {
       "model_id": "0f0aee63b5784f2bb83b3df56096eea5",
       "version_major": 2,
       "version_minor": 0
      },
      "text/plain": [
       "Map(basemap={'url': 'https://{s}.tile.openstreetmap.org/{z}/{x}/{y}.png', 'max_zoom': 19, 'attribution': 'Map …"
      ]
     },
     "metadata": {},
     "output_type": "display_data"
    }
   ],
   "source": [
    "from ipyleaflet import Map\n",
    "m = Map(center=(46, 14), zoom=5)\n",
    "m"
   ]
  },
  {
   "cell_type": "code",
   "execution_count": 10,
   "metadata": {},
   "outputs": [
    {
     "data": {
      "application/vnd.jupyter.widget-view+json": {
       "model_id": "ffd103cae50e42c5a4b320aa661806a4",
       "version_major": 2,
       "version_minor": 0
      },
      "text/plain": [
       "WidgetStream(max_fps=1, widget=Map(basemap={'url': 'https://{s}.tile.openstreetmap.org/{z}/{x}/{y}.png', 'max_…"
      ]
     },
     "metadata": {},
     "output_type": "display_data"
    }
   ],
   "source": [
    "map_stream = WidgetStream(widget=m, max_fps=1)\n",
    "map_stream"
   ]
  },
  {
   "cell_type": "code",
   "execution_count": null,
   "metadata": {},
   "outputs": [],
   "source": [
    "map_stream.close()"
   ]
  }
 ],
 "metadata": {
  "kernelspec": {
   "display_name": "Python 3",
   "language": "python",
   "name": "python3"
  },
  "language_info": {
   "codemirror_mode": {
    "name": "ipython",
    "version": 3
   },
   "file_extension": ".py",
   "mimetype": "text/x-python",
   "name": "python",
   "nbconvert_exporter": "python",
   "pygments_lexer": "ipython3",
   "version": "3.6.4"
  },
  "widgets": {
   "application/vnd.jupyter.widget-state+json": {
    "state": {
     "05d9346a-785f-4516-8790-50a134a065bd": {
      "model_module": "jupyter-threejs",
      "model_module_version": "1.0.0",
      "model_name": "OrthographicCameraModel",
      "state": {
       "bottom": -5,
       "far": 500,
       "left": -5,
       "near": 0.5,
       "projectionMatrix": [
        0.2,
        0,
        0,
        0,
        0,
        0.2,
        0,
        0,
        0,
        0,
        -0.004004004004004004,
        0,
        0,
        0,
        -1.002002002002002,
        1
       ],
       "right": 5,
       "top": 5
      }
     },
     "0f0aee63b5784f2bb83b3df56096eea5": {
      "model_module": "jupyter-leaflet",
      "model_module_version": "~0.8.1",
      "model_name": "LeafletMapModel",
      "state": {
       "_dom_classes": [],
       "_model_module_version": "~0.8.1",
       "_view_count": null,
       "_view_module_version": "~0.8.1",
       "basemap": {
        "attribution": "Map data (c) <a href=\"https://openstreetmap.org\">OpenStreetMap</a> contributors",
        "max_zoom": 19,
        "url": "https://{s}.tile.openstreetmap.org/{z}/{x}/{y}.png"
       },
       "center": [
        46,
        14
       ],
       "east": 35.55175781250001,
       "layers": [
        "IPY_MODEL_bd3848c864d14641b12768475068fbaa"
       ],
       "layout": "IPY_MODEL_2d35b5fbff364332bc7ab858f05bc169",
       "modisdate": "yesterday",
       "north": 51.781435604431195,
       "options": [
        "attribution_control",
        "basemap",
        "bounce_at_zoom_limits",
        "box_zoom",
        "center",
        "close_popup_on_click",
        "double_click_zoom",
        "dragging",
        "inertia",
        "inertia_deceleration",
        "inertia_max_speed",
        "keyboard",
        "keyboard_pan_offset",
        "keyboard_zoom_offset",
        "max_zoom",
        "min_zoom",
        "scroll_wheel_zoom",
        "tap",
        "tap_tolerance",
        "touch_zoom",
        "world_copy_jump",
        "zoom",
        "zoom_animation_threshold",
        "zoom_control",
        "zoom_start"
       ],
       "south": 39.57182223734374,
       "west": -7.558593750000001,
       "zoom": 5
      }
     },
     "15607e57534e4b3ab41c8bcb2c4a5d0d": {
      "model_module": "jupyter-threejs",
      "model_module_version": "~1.0.0",
      "model_name": "SceneModel",
      "state": {
       "_model_module_version": "~1.0.0",
       "_view_module": null,
       "_view_module_version": "",
       "children": [
        "IPY_MODEL_fcdd4d8993ae4b41917425806e7be0c5",
        "IPY_MODEL_6b883dd96e984364b67ace7f1ec33456",
        "IPY_MODEL_8aef759ba3a944b0b82e7c0649e76fa2"
       ]
      }
     },
     "2272ff659ce64b24af4ee2f009faa21b": {
      "model_module": "@jupyter-widgets/base",
      "model_module_version": "1.1.0",
      "model_name": "LayoutModel",
      "state": {
       "_model_module_version": "1.1.0",
       "_view_module_version": "1.1.0",
       "grid_area": null,
       "grid_auto_columns": null,
       "grid_auto_flow": null,
       "grid_auto_rows": null,
       "grid_column": null,
       "grid_gap": null,
       "grid_row": null,
       "grid_template_areas": null,
       "grid_template_columns": null,
       "grid_template_rows": null
      }
     },
     "2d35b5fbff364332bc7ab858f05bc169": {
      "model_module": "@jupyter-widgets/base",
      "model_module_version": "1.1.0",
      "model_name": "LayoutModel",
      "state": {
       "_model_module_version": "1.1.0",
       "_view_module_version": "1.1.0",
       "grid_area": null,
       "grid_auto_columns": null,
       "grid_auto_flow": null,
       "grid_auto_rows": null,
       "grid_column": null,
       "grid_gap": null,
       "grid_row": null,
       "grid_template_areas": null,
       "grid_template_columns": null,
       "grid_template_rows": null
      }
     },
     "34fb8d0d946540378eab492246568a9a": {
      "model_module": "jupyter-threejs",
      "model_module_version": "~1.0.0",
      "model_name": "SphereGeometryModel",
      "state": {
       "_model_module_version": "~1.0.0",
       "_view_module": null,
       "_view_module_version": ""
      }
     },
     "51366d5a06c840a7a28e44ee11c41501": {
      "model_module": "@jupyter-widgets/base",
      "model_module_version": "1.1.0",
      "model_name": "LayoutModel",
      "state": {
       "_model_module_version": "1.1.0",
       "_view_module_version": "1.1.0",
       "grid_area": null,
       "grid_auto_columns": null,
       "grid_auto_flow": null,
       "grid_auto_rows": null,
       "grid_column": null,
       "grid_gap": null,
       "grid_row": null,
       "grid_template_areas": null,
       "grid_template_columns": null,
       "grid_template_rows": null
      }
     },
     "52c132ec0c564de182891126e62450df": {
      "model_module": "jupyter-webrtc",
      "model_module_version": "~0.3.0",
      "model_name": "WidgetStreamModel",
      "state": {
       "layout": "IPY_MODEL_51366d5a06c840a7a28e44ee11c41501",
       "max_fps": 5,
       "widget": "IPY_MODEL_6f3fe7b98ca3493c9f407c53d582a215"
      }
     },
     "53cc69148181432ba8a03d471ce9d2ce": {
      "model_module": "jupyter-threejs",
      "model_module_version": "~1.0.0",
      "model_name": "MeshLambertMaterialModel",
      "state": {
       "_model_module_version": "~1.0.0",
       "_view_module": null,
       "_view_module_version": "",
       "color": "red"
      }
     },
     "61fb6c189a254ea7a5abbb22f554a7bf": {
      "model_module": "@jupyter-widgets/base",
      "model_module_version": "1.1.0",
      "model_name": "LayoutModel",
      "state": {
       "_model_module_version": "1.1.0",
       "_view_module_version": "1.1.0",
       "grid_area": null,
       "grid_auto_columns": null,
       "grid_auto_flow": null,
       "grid_auto_rows": null,
       "grid_column": null,
       "grid_gap": null,
       "grid_row": null,
       "grid_template_areas": null,
       "grid_template_columns": null,
       "grid_template_rows": null
      }
     },
     "6b883dd96e984364b67ace7f1ec33456": {
      "model_module": "jupyter-threejs",
      "model_module_version": "~1.0.0",
      "model_name": "PerspectiveCameraModel",
      "state": {
       "_model_module_version": "~1.0.0",
       "_view_module": null,
       "_view_module_version": "",
       "children": [
        "IPY_MODEL_8fb561701b2e49b69b6dd8f027c8d0b7"
       ],
       "position": [
        0.1619146300246482,
        7.067578444629488,
        0.15204795819945835
       ],
       "projectionMatrix": [
        2.1445069205095586,
        0,
        0,
        0,
        0,
        2.1445069205095586,
        0,
        0,
        0,
        0,
        -1.00010000500025,
        -1,
        0,
        0,
        -0.200010000500025,
        0
       ],
       "quaternion": [
        -0.638676858598679,
        0.2852024825622712,
        0.2763801566248435,
        0.6590640509501846
       ]
      }
     },
     "6f3fe7b98ca3493c9f407c53d582a215": {
      "model_module": "jupyter-threejs",
      "model_module_version": "~1.0.0",
      "model_name": "RendererModel",
      "state": {
       "_model_module_version": "~1.0.0",
       "_view_module_version": "~1.0.0",
       "camera": "IPY_MODEL_6b883dd96e984364b67ace7f1ec33456",
       "controls": [
        "IPY_MODEL_b5c344220b0d4611b8bf07808c42d233"
       ],
       "layout": "IPY_MODEL_d1bd0591f1ba40cc91b9286d2a944153",
       "scene": "IPY_MODEL_15607e57534e4b3ab41c8bcb2c4a5d0d",
       "shadowMap": "IPY_MODEL_8a7f1274eb5b4209a8844b5a4f18f4a7"
      }
     },
     "7828b0e1-f949-45af-8052-e792c1407e11": {
      "model_module": "jupyter-threejs",
      "model_module_version": "1.0.0",
      "model_name": "Object3DModel",
      "state": {}
     },
     "8a7f1274eb5b4209a8844b5a4f18f4a7": {
      "model_module": "jupyter-threejs",
      "model_module_version": "~1.0.0",
      "model_name": "WebGLShadowMapModel",
      "state": {
       "_model_module_version": "~1.0.0",
       "_view_module": null,
       "_view_module_version": ""
      }
     },
     "8aef759ba3a944b0b82e7c0649e76fa2": {
      "model_module": "jupyter-threejs",
      "model_module_version": "~1.0.0",
      "model_name": "AmbientLightModel",
      "state": {
       "_model_module_version": "~1.0.0",
       "_view_module": null,
       "_view_module_version": "",
       "color": "#777777"
      }
     },
     "8fb561701b2e49b69b6dd8f027c8d0b7": {
      "model_module": "jupyter-threejs",
      "model_module_version": "~1.0.0",
      "model_name": "DirectionalLightModel",
      "state": {
       "_model_module_version": "~1.0.0",
       "_view_module": null,
       "_view_module_version": "",
       "color": "white",
       "intensity": 0.5,
       "matrixWorldNeedsUpdate": true,
       "position": [
        3,
        5,
        1
       ],
       "shadow": "IPY_MODEL_b857d2e6-5114-4b08-a20d-0ce4090b7e65",
       "target": "IPY_MODEL_7828b0e1-f949-45af-8052-e792c1407e11"
      }
     },
     "9076cf1b31dc4e03addbf9ecae6c4658": {
      "model_module": "jupyter-webrtc",
      "model_module_version": "~0.3.0",
      "model_name": "WidgetStreamModel",
      "state": {
       "layout": "IPY_MODEL_61fb6c189a254ea7a5abbb22f554a7bf",
       "max_fps": 1,
       "widget": "IPY_MODEL_a4f665c5a7004fdb8fdc9b1d3191b18d"
      }
     },
     "a4f665c5a7004fdb8fdc9b1d3191b18d": {
      "model_module": "@jupyter-widgets/controls",
      "model_module_version": "1.3.0",
      "model_name": "FloatSliderModel",
      "state": {
       "_model_module_version": "1.3.0",
       "_view_module_version": "1.3.0",
       "continuous_update": false,
       "description": "Test:",
       "description_tooltip": null,
       "layout": "IPY_MODEL_dab3485b0f584f12b730c5787d0fd595",
       "readout_format": ".1f",
       "step": 0.1,
       "style": "IPY_MODEL_b639e536dd4a4e2fbc91450314636c9d",
       "value": 52
      }
     },
     "b5c344220b0d4611b8bf07808c42d233": {
      "model_module": "jupyter-threejs",
      "model_module_version": "~1.0.0",
      "model_name": "OrbitControlsModel",
      "state": {
       "_model_module_version": "~1.0.0",
       "_view_module": null,
       "_view_module_version": "",
       "controlling": "IPY_MODEL_6b883dd96e984364b67ace7f1ec33456",
       "maxAzimuthAngle": "inf",
       "maxDistance": "inf",
       "maxZoom": "inf",
       "minAzimuthAngle": "-inf"
      }
     },
     "b639e536dd4a4e2fbc91450314636c9d": {
      "model_module": "@jupyter-widgets/controls",
      "model_module_version": "1.3.0",
      "model_name": "SliderStyleModel",
      "state": {
       "_model_module_version": "1.3.0",
       "_view_module_version": "1.1.0",
       "description_width": ""
      }
     },
     "b857d2e6-5114-4b08-a20d-0ce4090b7e65": {
      "model_module": "jupyter-threejs",
      "model_module_version": "1.0.0",
      "model_name": "DirectionalLightShadowModel",
      "state": {
       "camera": "IPY_MODEL_05d9346a-785f-4516-8790-50a134a065bd"
      }
     },
     "bd3848c864d14641b12768475068fbaa": {
      "model_module": "jupyter-leaflet",
      "model_module_version": "~0.8.1",
      "model_name": "LeafletTileLayerModel",
      "state": {
       "_model_module_version": "~0.8.1",
       "_view_count": null,
       "_view_module_version": "~0.8.1",
       "base": true,
       "max_zoom": 19,
       "min_zoom": 1,
       "options": [
        "attribution",
        "detect_retina",
        "max_zoom",
        "min_zoom",
        "tile_size"
       ]
      }
     },
     "d1bd0591f1ba40cc91b9286d2a944153": {
      "model_module": "@jupyter-widgets/base",
      "model_module_version": "1.1.0",
      "model_name": "LayoutModel",
      "state": {
       "_model_module_version": "1.1.0",
       "_view_module_version": "1.1.0",
       "grid_area": null,
       "grid_auto_columns": null,
       "grid_auto_flow": null,
       "grid_auto_rows": null,
       "grid_column": null,
       "grid_gap": null,
       "grid_row": null,
       "grid_template_areas": null,
       "grid_template_columns": null,
       "grid_template_rows": null
      }
     },
     "d98869f223a747f9ada3cb8ff30e065c": {
      "model_module": "jupyter-webrtc",
      "model_module_version": "~0.3.0",
      "model_name": "WidgetStreamModel",
      "state": {
       "layout": "IPY_MODEL_dac7ebd782384224886b4a2a4d634b5b",
       "widget": "IPY_MODEL_6f3fe7b98ca3493c9f407c53d582a215"
      }
     },
     "dab3485b0f584f12b730c5787d0fd595": {
      "model_module": "@jupyter-widgets/base",
      "model_module_version": "1.1.0",
      "model_name": "LayoutModel",
      "state": {
       "_model_module_version": "1.1.0",
       "_view_module_version": "1.1.0",
       "grid_area": null,
       "grid_auto_columns": null,
       "grid_auto_flow": null,
       "grid_auto_rows": null,
       "grid_column": null,
       "grid_gap": null,
       "grid_row": null,
       "grid_template_areas": null,
       "grid_template_columns": null,
       "grid_template_rows": null
      }
     },
     "dac7ebd782384224886b4a2a4d634b5b": {
      "model_module": "@jupyter-widgets/base",
      "model_module_version": "1.1.0",
      "model_name": "LayoutModel",
      "state": {
       "_model_module_version": "1.1.0",
       "_view_module_version": "1.1.0",
       "grid_area": null,
       "grid_auto_columns": null,
       "grid_auto_flow": null,
       "grid_auto_rows": null,
       "grid_column": null,
       "grid_gap": null,
       "grid_row": null,
       "grid_template_areas": null,
       "grid_template_columns": null,
       "grid_template_rows": null
      }
     },
     "e265d88b12bb4826b4df46ae4ee473d7": {
      "model_module": "@jupyter-widgets/base",
      "model_module_version": "1.1.0",
      "model_name": "LayoutModel",
      "state": {
       "_model_module_version": "1.1.0",
       "_view_module_version": "1.1.0",
       "grid_area": null,
       "grid_auto_columns": null,
       "grid_auto_flow": null,
       "grid_auto_rows": null,
       "grid_column": null,
       "grid_gap": null,
       "grid_row": null,
       "grid_template_areas": null,
       "grid_template_columns": null,
       "grid_template_rows": null
      }
     },
     "fcdd4d8993ae4b41917425806e7be0c5": {
      "model_module": "jupyter-threejs",
      "model_module_version": "~1.0.0",
      "model_name": "MeshModel",
      "state": {
       "_model_module_version": "~1.0.0",
       "_view_module": null,
       "_view_module_version": "",
       "geometry": "IPY_MODEL_34fb8d0d946540378eab492246568a9a",
       "material": "IPY_MODEL_53cc69148181432ba8a03d471ce9d2ce",
       "morphTargetInfluences": [],
       "position": [
        2,
        1,
        0
       ]
      }
     },
     "ffd103cae50e42c5a4b320aa661806a4": {
      "model_module": "jupyter-webrtc",
      "model_module_version": "~0.3.0",
      "model_name": "WidgetStreamModel",
      "state": {
       "layout": "IPY_MODEL_2272ff659ce64b24af4ee2f009faa21b",
       "max_fps": 1,
       "widget": "IPY_MODEL_0f0aee63b5784f2bb83b3df56096eea5"
      }
     }
    },
    "version_major": 2,
    "version_minor": 0
   }
  }
 },
 "nbformat": 4,
 "nbformat_minor": 2
}
